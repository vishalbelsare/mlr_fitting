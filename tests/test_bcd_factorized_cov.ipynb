{
 "cells": [
  {
   "cell_type": "code",
   "execution_count": 1,
   "metadata": {},
   "outputs": [],
   "source": [
    "import numpy as np\n",
    "from tqdm import tqdm\n",
    "\n",
    "import mlrfit as mf\n",
    "import numba as nb\n",
    "\n",
    "from scipy.linalg import block_diag  \n",
    "from mlrfit import frob_loss, rel_diff, diag_sparseBCt, LinOpResidualMatrix, compute_perm_residual\n",
    "\n",
    "import mfmodel as mfm"
   ]
  },
  {
   "cell_type": "code",
   "execution_count": 2,
   "metadata": {},
   "outputs": [
    {
     "name": "stdout",
     "output_type": "stream",
     "text": [
      "level=0, num_groups=1, mean_size=800.0\n",
      "level=1, num_groups=3, mean_size=266.7\n",
      "level=2, num_groups=7, mean_size=114.3\n",
      "level=3, num_groups=16, mean_size=50.0\n",
      "level=4, num_groups=800, mean_size=1.0\n",
      "signal_var=26.19073360423691, noise_var=6.1901710742440805\n",
      "SNR=4.231019351502368, signal_to_noise=4\n"
     ]
    }
   ],
   "source": [
    "n = 800\n",
    "signal_to_noise = 4\n",
    "\n",
    "\n",
    "nsamples = 40\n",
    "L = 5\n",
    "\n",
    "\n",
    "ranks = np.array([10, 7, 5, 4, 1])\n",
    "rank = ranks.sum()\n",
    "\n",
    "pi_rows = np.random.permutation(n)\n",
    "hpart = {'rows':{'pi':pi_rows, 'lk':[]}, 'cols':{'pi':pi_rows, 'lk':[]}} \n",
    "for ngroups in [2, 5, 9, 17, n+1]:\n",
    "       hpart['rows']['lk'] += [ np.linspace(0, n, ngroups, endpoint=True, dtype=int)]\n",
    "hpart['rows']['lk'][1] = np.delete(hpart['rows']['lk'][1], -2)\n",
    "hpart['rows']['lk'][2] = np.delete(hpart['rows']['lk'][2], -4)\n",
    "hpart['cols']['lk'] = hpart['rows']['lk']\n",
    "part_sizes = mfm.print_hpart_numgroups(hpart)\n",
    "mfm.valid_hpart(hpart)\n",
    "\n",
    "true_mlr, true_sparse_F, true_D_noise = mfm.generate_mlr_model(n, hpart, ranks, signal_to_noise=signal_to_noise)\n",
    "C = mfm.generate_data(true_sparse_F, true_D_noise, nsamples, true_mlr)\n",
    "Z = (C - C.mean(axis=1, keepdims=True))[hpart[\"rows\"][\"pi\"], :]\n",
    "del C\n",
    "unpermuted_A = (Z @ Z.T / (Z.shape[1]-1))[true_mlr.pi_inv_rows, :][:, true_mlr.pi_inv_cols]\n",
    "# permute to put clusters on diagonal\n",
    "Y = Z.T\n",
    "N = Y.shape[0]"
   ]
  },
  {
   "cell_type": "code",
   "execution_count": 3,
   "metadata": {},
   "outputs": [
    {
     "name": "stdout",
     "output_type": "stream",
     "text": [
      "itr=0, [], [10  7  5  4  1]\n",
      "itr=0, 0.3553672288904666, [10  7  5  4  1], time_v_epoch=2.4362599849700928, time_loss=0.01446080207824707\n",
      "itr=10, 0.3465971782882264, [10  7  5  4  1], time_v_epoch=0.795828104019165, time_loss=0.014462947845458984\n",
      "itr=20, 0.3456512527861053, [10  7  5  4  1], time_v_epoch=0.8528141975402832, time_loss=0.019987821578979492\n"
     ]
    }
   ],
   "source": [
    "hat_A1 = mf.MLRMatrix()\n",
    "hat_A1.hpart = hpart\n",
    "PSD = True\n",
    "\n",
    "B, C = hat_A1.init_B_C(ranks, hpart, init_type='zeros')\n",
    "hat_A1.B, hat_A1.C = B, C\n",
    "losses = hat_A1.factor_fit((Y[:, true_mlr.pi_inv_rows].T/np.sqrt(N), \n",
    "                            Y[:, true_mlr.pi_inv_rows].T/np.sqrt(N)), ranks, hat_A1.hpart, PSD=PSD, freq=10, \n",
    "                          eps_ff=1e-6, printing=True, max_iters_ff=30, symm=True, warm_start=True)"
   ]
  },
  {
   "cell_type": "code",
   "execution_count": 4,
   "metadata": {},
   "outputs": [
    {
     "name": "stdout",
     "output_type": "stream",
     "text": [
      "itr=0, [], [10  7  5  4  1]\n"
     ]
    },
    {
     "name": "stderr",
     "output_type": "stream",
     "text": [
      "/Users/parshakova.tanya/Documents/projects/MLR_Matrices/mlr_fitting/mlrfit/utils.py:409: NumbaPerformanceWarning: np.dot() is faster on contiguous arrays, called on (Array(float64, 2, 'A', False, aligned=True), Array(float64, 2, 'A', False, aligned=True))\n",
      "  hat_A_except_level[r1:r2, c1:c2] += np.dot(B_level[r1:r2], C_level[c1:c2].T)\n"
     ]
    },
    {
     "name": "stdout",
     "output_type": "stream",
     "text": [
      "itr=0, 0.3553672288904666, [10  7  5  4  1], time_v_epoch=2.04154109954834, time_loss=0.5203440189361572\n",
      "itr=10, 0.34659717828822634, [10  7  5  4  1], time_v_epoch=0.27061009407043457, time_loss=0.004147052764892578\n",
      "itr=20, 0.3456512527861054, [10  7  5  4  1], time_v_epoch=0.23865199089050293, time_loss=0.01857900619506836\n"
     ]
    }
   ],
   "source": [
    "hat_A2 = mf.MLRMatrix()\n",
    "hat_A2.hpart = hpart\n",
    "\n",
    "B, C = hat_A2.init_B_C(ranks, hpart, init_type='zeros')\n",
    "hat_A2.B, hat_A2.C = B, C\n",
    "cov_matrix = ((Y.T/np.sqrt(N)) @ (Y/np.sqrt(N)))[true_mlr.pi_inv_rows, :][:, true_mlr.pi_inv_cols]\n",
    "losses2 = hat_A2.factor_fit(cov_matrix, ranks, hat_A2.hpart, PSD=PSD, freq=10, \n",
    "                          eps_ff=1e-6, printing=True, max_iters_ff=30, symm=True, warm_start=True)"
   ]
  },
  {
   "cell_type": "code",
   "execution_count": 8,
   "metadata": {},
   "outputs": [
    {
     "name": "stdout",
     "output_type": "stream",
     "text": [
      "PASSED\n"
     ]
    }
   ],
   "source": [
    "assert np.allclose(hat_A1.matrix(), hat_A2.matrix())\n",
    "\n",
    "\n",
    "num_levels = len(hpart['rows']['lk']) \n",
    "for level in range(num_levels):\n",
    "    A_l1 = hat_A1._block_diag_BCt(level, hpart, hat_A1.B[:,ranks[:level].sum():ranks[:level+1].sum()], \\\n",
    "                                                hat_A1.C[:,ranks[:level].sum():ranks[:level+1].sum()])\n",
    "    A_l2 = hat_A2._block_diag_BCt(level, hpart, hat_A2.B[:,ranks[:level].sum():ranks[:level+1].sum()], \\\n",
    "                                                hat_A2.C[:,ranks[:level].sum():ranks[:level+1].sum()])\n",
    "    assert np.allclose(A_l1, A_l2)\n",
    "\n",
    "assert np.allclose(np.array(losses), np.array(losses2))\n",
    "\n",
    "print(\"PASSED\")"
   ]
  }
 ],
 "metadata": {
  "kernelspec": {
   "display_name": "multilevel",
   "language": "python",
   "name": "python3"
  },
  "language_info": {
   "codemirror_mode": {
    "name": "ipython",
    "version": 3
   },
   "file_extension": ".py",
   "mimetype": "text/x-python",
   "name": "python",
   "nbconvert_exporter": "python",
   "pygments_lexer": "ipython3",
   "version": "3.11.8"
  }
 },
 "nbformat": 4,
 "nbformat_minor": 2
}
